{
 "cells": [
  {
   "cell_type": "code",
   "execution_count": 1,
   "id": "b06248f4-d50e-4ac4-9a12-91213643d91d",
   "metadata": {},
   "outputs": [],
   "source": [
    "# This code block stores file paths to variables to make the code neat\n",
    "# The stored variables are called in the read_excel function and stored as dataframes\n",
    "\n",
    "import pandas as pd\n",
    "import numpy as np\n",
    "\n",
    "# Store excel file locations to variables (change it as per your path to file)\n",
    "file_2013=r\"C:\\Users\\warra\\Desktop\\Freelance\\data\\data\\FemaleMerge\\1. Merging by Parts\\28. Section 7 Part 10 Women Decision Making Reproductive Decisions\\2013_s9p5_f.csv\"\n",
    "df_2013 = pd.read_csv(file_2013)\n"
   ]
  },
  {
   "cell_type": "code",
   "execution_count": 2,
   "id": "51a5aad7-5898-4f02-948f-c3bcced01f6c",
   "metadata": {},
   "outputs": [],
   "source": [
    "# Rename columns for the merged file (if needed)\n",
    "rename_mapping = {\n",
    "    'hid': 'HID',\n",
    "    'round': 'Survey_Round',\n",
    "    'r_pid': 'PID',\n",
    "    's9p5_q1': 'RD_Conter',\n",
    "    's9p5_q2_r1': 'RD_Conter1',\n",
    "    's9p5_q2_r2': 'RD_Conter2',\n",
    "    's9p5_q2_r3': 'RD_Conter3',\n",
    "    's9p5_q2_r4': 'RD_Conter4',\n",
    "    's9p5_q2_r5': 'RD_Conter5',\n",
    "    's9p5_q3_r1': 'RD_GetConter1',\n",
    "    's9p5_q3_r2': 'RD_GetConter2',\n",
    "    's9p5_q3_r3': 'RD_GetConter3',\n",
    "    's9p5_q3_r4': 'RD_GetConter4',\n",
    "    's9p5_q3_r5': 'RD_GetConter5',\n",
    "    's9p5_q4': 'RD_OMAware',\n",
    "    's9p5_q5_r1': 'RD_OMAware1',\n",
    "    's9p5_q5_r2': 'RD_OMAware2',\n",
    "    's9p5_q5_r3': 'RD_OMAware3',\n",
    "    's9p5_q5_r4': 'RD_OMAware4',\n",
    "    's9p5_q5_r5': 'RD_OMAware5',\n",
    "    's9p5_q6': 'RD_OMAware',\n",
    "    's9p5_q7_r1': 'RD_GetOMAware1',\n",
    "    's9p5_q7_r2': 'RD_GetOMAware2',\n",
    "    's9p5_q7_r3': 'RD_GetOMAware3',\n",
    "    's9p5_q7_r4': 'RD_GetOMAware4',\n",
    "    's9p5_q7_r5': 'RD_GetOMAware5'\n",
    "}\n",
    "\n",
    "df_2013.rename(columns=rename_mapping, inplace=True)\n",
    "\n",
    "# Drop redundant columns\n",
    "df_2013.drop(df_2013.columns[df_2013.columns.str.contains('Unnamed', case=True)], axis=1, inplace=True)\n",
    "df_2013.drop(df_2013.columns[df_2013.columns.str.contains(' ', case=False)], axis=1, inplace=True)\n",
    "\n",
    "# Save the merged dataframe to a CSV file\n",
    "df_2013.to_csv('22. merged_Woman decision making Reproductive decisions.csv', index=False)"
   ]
  },
  {
   "cell_type": "code",
   "execution_count": null,
   "id": "45f7835b-68d4-403c-a884-c36669ec385f",
   "metadata": {},
   "outputs": [],
   "source": []
  }
 ],
 "metadata": {
  "kernelspec": {
   "display_name": "Python 3 (ipykernel)",
   "language": "python",
   "name": "python3"
  },
  "language_info": {
   "codemirror_mode": {
    "name": "ipython",
    "version": 3
   },
   "file_extension": ".py",
   "mimetype": "text/x-python",
   "name": "python",
   "nbconvert_exporter": "python",
   "pygments_lexer": "ipython3",
   "version": "3.11.7"
  }
 },
 "nbformat": 4,
 "nbformat_minor": 5
}
