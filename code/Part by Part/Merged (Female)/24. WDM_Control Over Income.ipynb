{
 "cells": [
  {
   "cell_type": "code",
   "execution_count": 3,
   "id": "b06248f4-d50e-4ac4-9a12-91213643d91d",
   "metadata": {},
   "outputs": [],
   "source": [
    "# This code block stores file paths to variables to make the code neat\n",
    "# The stored variables are called in the read_excel function and stored as dataframes\n",
    "\n",
    "import pandas as pd\n",
    "import numpy as np\n",
    "\n",
    "# Store excel file locations to variables (change it as per your path to file)\n",
    "\n",
    "file_2014=r\"C:\\Users\\warra\\Desktop\\Freelance\\data\\data\\FemaleMerge\\1. Merging by Parts\\24. Section 7 Part 6 Women Decision Making Control Over Income\\2014_s7p6_f.csv\"\n",
    "\n",
    "# Read excel files\n",
    "\n",
    "df_2014 = pd.read_csv(file_2014)\n"
   ]
  },
  {
   "cell_type": "code",
   "execution_count": 4,
   "id": "51a5aad7-5898-4f02-948f-c3bcced01f6c",
   "metadata": {},
   "outputs": [],
   "source": [
    "# Rename columns for the merged file (if needed)\n",
    "rename_mapping = {\n",
    "    'hid': 'HID',\n",
    "    'round': 'Survey_Round',\n",
    "    's7p6_sr': 'COI_SrNo',\n",
    "    'r_pid': 'PID',\n",
    "    's7p6_q1': 'COI_EAMAllow',\n",
    "    's7p6_q2a': 'COI_CM_FFM',\n",
    "    's7p6_q2b': 'COI_CM_CY',\n",
    "    's7p6_q2c': 'COI_CM_MedY',\n",
    "    's7p6_q2d': 'COI_CM_TnCY',\n",
    "    's7p6_q3a': 'COI_Work',\n",
    "    's7p6_q3b': 'COI_WorkDes',\n",
    "    's7p6_q4': 'COI_Income_m',\n",
    "    's7p6_q5': 'COI_IncomeUse',\n",
    "    's7p6_q6': 'COI_Income_Decide'\n",
    "}\n",
    "\n",
    "df_2014.rename(columns=rename_mapping, inplace=True)\n",
    "\n",
    "# Drop redundant columns\n",
    "df_2014.drop(df_2014.columns[df_2014.columns.str.contains('Unnamed', case=True)], axis=1, inplace=True)\n",
    "df_2014.drop(df_2014.columns[df_2014.columns.str.contains(' ', case=False)], axis=1, inplace=True)\n",
    "\n",
    "# Save the merged dataframe to a CSV file\n",
    "df_2014.to_csv('18. merged_Woman decision making Control over income.csv', index=False)\n"
   ]
  },
  {
   "cell_type": "code",
   "execution_count": null,
   "id": "45f7835b-68d4-403c-a884-c36669ec385f",
   "metadata": {},
   "outputs": [],
   "source": []
  }
 ],
 "metadata": {
  "kernelspec": {
   "display_name": "Python 3 (ipykernel)",
   "language": "python",
   "name": "python3"
  },
  "language_info": {
   "codemirror_mode": {
    "name": "ipython",
    "version": 3
   },
   "file_extension": ".py",
   "mimetype": "text/x-python",
   "name": "python",
   "nbconvert_exporter": "python",
   "pygments_lexer": "ipython3",
   "version": "3.11.7"
  }
 },
 "nbformat": 4,
 "nbformat_minor": 5
}
