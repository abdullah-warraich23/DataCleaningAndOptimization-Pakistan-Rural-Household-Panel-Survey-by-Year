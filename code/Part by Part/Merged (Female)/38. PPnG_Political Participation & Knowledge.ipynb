{
 "cells": [
  {
   "cell_type": "code",
   "execution_count": 1,
   "id": "b06248f4-d50e-4ac4-9a12-91213643d91d",
   "metadata": {},
   "outputs": [],
   "source": [
    "# This code block stores file paths to variables to make the code neat\n",
    "# The stored variables are called in the read_excel function and stored as dataframes\n",
    "\n",
    "import pandas as pd\n",
    "import numpy as np\n",
    "\n",
    "# Store excel file locations to variables (change it as per your path to file)\n",
    "file_2013=r\"C:\\Users\\warra\\Desktop\\Freelance\\data\\data\\FemaleMerge\\1. Merging by Parts\\38. Section 10 Part 1 Political Participation and Governance - Participation and Knowedge\\2013_S5P1.csv\"\n",
    "\n",
    "# Read excel files\n",
    "df_2013 = pd.read_csv(file_2013)\n"
   ]
  },
  {
   "cell_type": "code",
   "execution_count": 2,
   "id": "51a5aad7-5898-4f02-948f-c3bcced01f6c",
   "metadata": {},
   "outputs": [],
   "source": [
    "# Rename columns for the merged file (if needed)\n",
    "rename_mapping = {\n",
    "   'hid': 'HID',\n",
    "    'round': 'Survey_Round',\n",
    "    's5p1_sr': 'Group_ID',\n",
    "    's5p1_group': 'Group_Name',\n",
    "    's5p1_q1': 'PPK_MemOrg',\n",
    "    's5p1_q2': 'PPK_Role',\n",
    "    's5p1_q3': 'PPK_NoM_12m',\n",
    "    's5p1_q4': 'PPK_ContriG_12m',\n",
    "    's5p1_q5': 'PPK_HMGO_12m',\n",
    "    's5p1_q6': 'PPK_Ginvolve_',\n",
    "    's5p1_q7': 'PPK_Vote',\n",
    "    's5p1_q8a': 'PPK_NOVote_Res1',\n",
    "    's5p1_q8b': 'PPK_NOVote_Res2',\n",
    "    's5p1_q8c': 'PPK_NOVote_Res3',\n",
    "    's5p1_q9': 'PPK_FOIoVote',\n",
    "    's5p1_q10': 'PPK_PtVote',\n",
    "    's5p1_q11_month': 'PPK_LAVM_m',\n",
    "    's5p1_q11_year': 'PPK_LAVM_y',\n",
    "    's5p1_q12': 'PPK_PM',\n",
    "    's5p1_q13': 'PPK_CM',\n",
    "    's5p1_q14': 'PPK_FloodAffect',\n",
    "    's5p1_q15': 'PPK_HDamFlood',\n",
    "    's5p1_institution': 'PPK_Institution_Name',\n",
    "    's5p1_q16': 'PPK_OrgAssist_12m',\n",
    "    's5p1_q17': 'PPK_CoIKAssist_12m',\n",
    "    's5p1_q18a': 'PPK_OAssist1_12m',\n",
    "    's5p1_q18b': 'PPK_OAssist2_12m',\n",
    "    's5p1_q19': 'PPK_Gsatis_12m'\n",
    "}\n",
    "\n",
    "df_2013.rename(columns=rename_mapping, inplace=True)\n",
    "\n",
    "# Drop redundant columns\n",
    "df_2013.drop(df_2013.columns[df_2013.columns.str.contains('Unnamed', case=True)], axis=1, inplace=True)\n",
    "df_2013.drop(df_2013.columns[df_2013.columns.str.contains(' ', case=False)], axis=1, inplace=True)\n",
    "\n",
    "# Save the merged dataframe to a CSV file\n",
    "df_2013.to_csv('1. merged_PPnG_Political Participation & Knowledge.csv', index=False)\n"
   ]
  },
  {
   "cell_type": "code",
   "execution_count": null,
   "id": "45f7835b-68d4-403c-a884-c36669ec385f",
   "metadata": {},
   "outputs": [],
   "source": []
  }
 ],
 "metadata": {
  "kernelspec": {
   "display_name": "Python 3 (ipykernel)",
   "language": "python",
   "name": "python3"
  },
  "language_info": {
   "codemirror_mode": {
    "name": "ipython",
    "version": 3
   },
   "file_extension": ".py",
   "mimetype": "text/x-python",
   "name": "python",
   "nbconvert_exporter": "python",
   "pygments_lexer": "ipython3",
   "version": "3.11.7"
  }
 },
 "nbformat": 4,
 "nbformat_minor": 5
}
