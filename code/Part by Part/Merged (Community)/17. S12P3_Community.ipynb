{
 "cells": [
  {
   "cell_type": "code",
   "execution_count": 1,
   "id": "b06248f4-d50e-4ac4-9a12-91213643d91d",
   "metadata": {},
   "outputs": [],
   "source": [
    "# This code block stores file paths to variables to make the code neat\n",
    "# The stored variables are called in the read_excel function and stored as dataframes\n",
    "\n",
    "import pandas as pd\n",
    "import numpy as np\n",
    "# Store excel file locations to variables\n",
    "\n",
    "Com_2012 = r\"C:\\Users\\warra\\Desktop\\Freelance\\data\\data\\CommunityMerge\\1. Merging by Parts\\15. S10P3 Business Environment and Organizations\\2012_com_s6_part3.csv\"\n",
    "# Read excel files \n",
    "df_2012 = pd.read_csv(Com_2012)\n",
    "\n",
    "\n"
   ]
  },
  {
   "cell_type": "code",
   "execution_count": 2,
   "id": "f7a81876-e34e-4771-b3fd-060be59fa3f6",
   "metadata": {},
   "outputs": [],
   "source": [
    "# Rename columns for the merged file (if needed)\n",
    "rename_mapping = {\n",
    "    'round': 'Survey_Round',\n",
    "    'cid': 'CID',\n",
    "    'community': 'Community',\n",
    "    'S6P3_Q1A': 'BO_COC_T',\n",
    "    'S6P3_Q1B': 'BO_BAAB_T',\n",
    "    'S6P3_Q1C': 'BO_BAOS_T',\n",
    "    'S6P3_Q2A': 'BO_COCEst_T',\n",
    "    'S6P3_Q2B': 'BO_BAABEst_T',\n",
    "    'S6P3_Q2C': 'BO_BAOSEst_T',\n",
    "    'S6P3_Q3A': 'BO_COC_LG',\n",
    "    'S6P3_Q3B': 'BO_BAAB_LG',\n",
    "    'S6P3_Q3C': 'BO_BAOS_LG',\n",
    "    'S6P3_Q4A': 'BO_COC_RD',\n",
    "    'S6P3_Q4B': 'BO_BAAB_RD',\n",
    "    'S6P3_Q4C': 'BO_BAOS_RD',\n",
    "    'S6P3_Q5A': 'BO_COC_IOP',\n",
    "    'S6P3_Q5B': 'BO_BAAB_IOP',\n",
    "    'S6P3_Q5C': 'BO_BAOS_IOP',\n",
    "    'S6P3_Q6A': 'BO_COC_CDP',\n",
    "    'S6P3_Q6B': 'BO_BAAB_CDP',\n",
    "    'S6P3_Q6C': 'BO_BAOS_CDP',\n",
    "    'S6P3_Q7A': 'BO_COC_AS',\n",
    "    'S6P3_Q7B': 'BO_BAAB_AS',\n",
    "    'S6P3_Q7C': 'BO_BAOS_AS',\n",
    "    'S6P3_Q8A': 'BO_COC_IOG',\n",
    "    'S6P3_Q8B': 'BO_BAAB_IOG',\n",
    "    'S6P3_Q8C': 'BO_BAOS_IOG',\n",
    "    'S6P3_Q9A': 'BO_COC_IGP',\n",
    "    'S6P3_Q9B': 'BO_BAAB_IGP',\n",
    "    'S6P3_Q9C': 'BO_BAOS_IGP',\n",
    "    'fid': 'FID',\n",
    "    'PROVINCE_ID': 'P_ID',\n",
    "    'DISTRICT_ID': 'D_ID',\n",
    "    'TEHSIL_ID': 'T_ID',\n",
    "    'MAUZA_ID': 'M_ID'\n",
    "}\n",
    "\n",
    "\n",
    "df_2012.rename(columns=rename_mapping, inplace=True)\n",
    "\n",
    "# Drop redundant columns\n",
    "df_2012.drop(df_2012.columns[df_2012.columns.str.contains('Unnamed', case=True)], axis=1, inplace=True)\n",
    "df_2012.drop(df_2012.columns[df_2012.columns.str.contains(' ', case=False)], axis=1, inplace=True)\n",
    "\n",
    "# Save the merged dataframe to a CSV file\n",
    "df_2012.to_csv('3. merged_S12P3_Business Environment and Organizations.csv', index=False)\n",
    "\n"
   ]
  },
  {
   "cell_type": "code",
   "execution_count": null,
   "id": "c1a984fb-cef4-4d9e-9ac9-b680d6f41940",
   "metadata": {},
   "outputs": [],
   "source": []
  }
 ],
 "metadata": {
  "kernelspec": {
   "display_name": "Python 3 (ipykernel)",
   "language": "python",
   "name": "python3"
  },
  "language_info": {
   "codemirror_mode": {
    "name": "ipython",
    "version": 3
   },
   "file_extension": ".py",
   "mimetype": "text/x-python",
   "name": "python",
   "nbconvert_exporter": "python",
   "pygments_lexer": "ipython3",
   "version": "3.11.7"
  }
 },
 "nbformat": 4,
 "nbformat_minor": 5
}
