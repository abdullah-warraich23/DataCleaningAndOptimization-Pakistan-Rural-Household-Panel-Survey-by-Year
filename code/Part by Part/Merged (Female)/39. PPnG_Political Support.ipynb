{
 "cells": [
  {
   "cell_type": "code",
   "execution_count": 1,
   "id": "b06248f4-d50e-4ac4-9a12-91213643d91d",
   "metadata": {},
   "outputs": [],
   "source": [
    "# This code block stores file paths to variables to make the code neat\n",
    "# The stored variables are called in the read_excel function and stored as dataframes\n",
    "\n",
    "import pandas as pd\n",
    "import numpy as np\n",
    "\n",
    "# Store excel file locations to variables (change it as per your path to file)\n",
    "file_2013=r\"C:\\Users\\warra\\Desktop\\Freelance\\data\\data\\FemaleMerge\\1. Merging by Parts\\39. Section 10 Part 2 Political Participation and Governance - Support for Political System\\2013_s5p2_f.csv\"\n",
    "\n",
    "# Read excel files\n",
    "df_2013 = pd.read_csv(file_2013)\n",
    "\n"
   ]
  },
  {
   "cell_type": "code",
   "execution_count": 2,
   "id": "51a5aad7-5898-4f02-948f-c3bcced01f6c",
   "metadata": {},
   "outputs": [],
   "source": [
    "# Rename columns for the merged file (if needed)\n",
    "rename_mapping = {\n",
    "   'hid': 'HID',\n",
    "    'round': 'Survey_Round',\n",
    "    'version': 'Version',\n",
    "    's5p2_q1': 'SPS_Income_Lm',\n",
    "    's5p2_q2': 'SPS_IncomeLTE',\n",
    "    's5p2_q3': 'SPS_Job',\n",
    "    's5p2_q4': 'SPS_JobChild1',\n",
    "    's5p2_q5': 'SPS_JobChild2',\n",
    "    's5p2_q6': 'SPS_RewEff',\n",
    "    's5p2_q7': 'SPS_RewIS',\n",
    "    's5p2_q8': 'SPS_WFB',\n",
    "    's5p2_q9': 'SPS_IncomeDiff',\n",
    "    's5p2_q10': 'SPS_IncomeDiff_GovRes',\n",
    "    's5p2_q11': 'SPS_FairTrial',\n",
    "    's5p2_q12': 'SPS_PIR',\n",
    "    's5p2_q13': 'SPS_RightProtection',\n",
    "    's5p2_q14': 'SPS_ProudPSP',\n",
    "    's5p2_q15': 'SPS_Extent',\n",
    "    's5p2_q16': 'SPS_TrustPSP',\n",
    "    's5p2_q17': 'SPS_LeadJob'\n",
    "}\n",
    "\n",
    "df_2013.rename(columns=rename_mapping, inplace=True)\n",
    "\n",
    "# Drop redundant columns\n",
    "df_2013.drop(df_2013.columns[df_2013.columns.str.contains('Unnamed', case=True)], axis=1, inplace=True)\n",
    "df_2013.drop(df_2013.columns[df_2013.columns.str.contains(' ', case=False)], axis=1, inplace=True)\n",
    "\n",
    "# Save the merged dataframe to a CSV file\n",
    "df_2013.to_csv('2. merged_PPnG_Political Support.csv', index=False)\n"
   ]
  },
  {
   "cell_type": "code",
   "execution_count": null,
   "id": "45f7835b-68d4-403c-a884-c36669ec385f",
   "metadata": {},
   "outputs": [],
   "source": []
  }
 ],
 "metadata": {
  "kernelspec": {
   "display_name": "Python 3 (ipykernel)",
   "language": "python",
   "name": "python3"
  },
  "language_info": {
   "codemirror_mode": {
    "name": "ipython",
    "version": 3
   },
   "file_extension": ".py",
   "mimetype": "text/x-python",
   "name": "python",
   "nbconvert_exporter": "python",
   "pygments_lexer": "ipython3",
   "version": "3.11.7"
  }
 },
 "nbformat": 4,
 "nbformat_minor": 5
}
