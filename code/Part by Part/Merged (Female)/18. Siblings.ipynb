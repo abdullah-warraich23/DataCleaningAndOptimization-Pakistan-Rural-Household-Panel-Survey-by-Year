{
 "cells": [
  {
   "cell_type": "code",
   "execution_count": 2,
   "id": "b06248f4-d50e-4ac4-9a12-91213643d91d",
   "metadata": {},
   "outputs": [],
   "source": [
    "# This code block stores file paths to variables to make the code neat\n",
    "# The stored variables are called in the read_excel function and stored as dataframes\n",
    "\n",
    "import pandas as pd\n",
    "import numpy as np\n",
    "\n",
    "# Store excel file locations to variables (change it as per your path to file)\n",
    "\n",
    "file_2014=r\"C:\\Users\\warra\\Desktop\\Freelance\\data\\data\\FemaleMerge\\1. Merging by Parts\\18. Section 6 Siblings\\2014_s6.csv\"\n",
    "\n",
    "# Read excel files\n",
    "\n",
    "df_2014 = pd.read_csv(file_2014)\n"
   ]
  },
  {
   "cell_type": "code",
   "execution_count": 3,
   "id": "51a5aad7-5898-4f02-948f-c3bcced01f6c",
   "metadata": {},
   "outputs": [],
   "source": [
    "# Rename columns for the merged file (if needed)\n",
    "rename_mapping = {\n",
    "   'hid': 'HID',\n",
    "    'round': 'Survey_Round',\n",
    "    's6p1_pid': 'W1PID',\n",
    "    's6p1_sr': 'Sib_PersonNo',\n",
    "    's6p1_q2': 'Sib_Gender',\n",
    "    's6p1_q3': 'Sib_MemHH',\n",
    "    'r_pid': 'PID',\n",
    "    's6p1_q5': 'Sib_Alive',\n",
    "    's6p1_q6': 'Sib_CurrAge_y',\n",
    "    's6p1_q7': 'Sib_AoD_y',\n",
    "    's6p1_q8': 'Sib_YoD_y',\n",
    "    's6p1_q9': 'Sib_CoD',\n",
    "    's6p1_q10': 'Sib_Age_FM',\n",
    "    's6p1_q11': 'Sib_FM_Arrange',\n",
    "    's6p1_q12': 'Sib_Birth',\n",
    "    's6p1_q13': 'Sib_AgeBirth',\n",
    "    's6p1_q14': 'Sib_Birth_G',\n",
    "    's6p1_q15': 'Sib_Birth_B',\n",
    "    's6p1_q16': 'Sib_MomHC',\n",
    "    's6p1_q17': 'Sib_DadHC'\n",
    "}\n",
    "\n",
    "df_2014.rename(columns=rename_mapping, inplace=True)\n",
    "\n",
    "# Drop redundant columns\n",
    "df_2014.drop(df_2014.columns[df_2014.columns.str.contains('Unnamed', case=True)], axis=1, inplace=True)\n",
    "df_2014.drop(df_2014.columns[df_2014.columns.str.contains(' ', case=False)], axis=1, inplace=True)\n",
    "\n",
    "# Save the merged dataframe to a CSV file\n",
    "df_2014.to_csv('7. merged_Siblings.csv', index=False)\n"
   ]
  },
  {
   "cell_type": "code",
   "execution_count": null,
   "id": "45f7835b-68d4-403c-a884-c36669ec385f",
   "metadata": {},
   "outputs": [],
   "source": []
  }
 ],
 "metadata": {
  "kernelspec": {
   "display_name": "Python 3 (ipykernel)",
   "language": "python",
   "name": "python3"
  },
  "language_info": {
   "codemirror_mode": {
    "name": "ipython",
    "version": 3
   },
   "file_extension": ".py",
   "mimetype": "text/x-python",
   "name": "python",
   "nbconvert_exporter": "python",
   "pygments_lexer": "ipython3",
   "version": "3.11.7"
  }
 },
 "nbformat": 4,
 "nbformat_minor": 5
}
