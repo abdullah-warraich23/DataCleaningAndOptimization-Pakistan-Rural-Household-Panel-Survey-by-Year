{
 "cells": [
  {
   "cell_type": "code",
   "execution_count": 1,
   "id": "b06248f4-d50e-4ac4-9a12-91213643d91d",
   "metadata": {},
   "outputs": [],
   "source": [
    "# This code block stores file paths to variables to make the code neat\n",
    "# The stored variables are called in the read_excel function and stored as dataframes\n",
    "\n",
    "import pandas as pd\n",
    "import numpy as np\n",
    "\n",
    "# Store excel file locations to variables (change it as per your path to file)\n",
    "file_2013=r\"C:\\Users\\warra\\Desktop\\Freelance\\data\\data\\FemaleMerge\\1. Merging by Parts\\29. Section 7 Part 11 Women Decision Making Domestic Violence\\2013_s9p6_f.csv\"\n",
    "\n",
    "# Read excel files\n",
    "df_2013 = pd.read_csv(file_2013)\n"
   ]
  },
  {
   "cell_type": "code",
   "execution_count": 2,
   "id": "51a5aad7-5898-4f02-948f-c3bcced01f6c",
   "metadata": {},
   "outputs": [],
   "source": [
    "# Rename columns for the merged file (if needed)\n",
    "rename_mapping = {\n",
    "    'hid': 'HID',\n",
    "    'round': 'Survey_Round',\n",
    "    'r_pid': 'PID',\n",
    "    's9p6_q1a': 'DV_HHum',\n",
    "    's9p6_q1b': 'DV_HTHSC',\n",
    "    's9p6_q1c': 'DV_HInsult',\n",
    "    's9p6_q2a': 'DV_HPST',\n",
    "    's9p6_q2b': 'DV_HSlap',\n",
    "    's9p6_q2c': 'DV_HTAPH',\n",
    "    's9p6_q2d': 'DV_HPunch',\n",
    "    's9p6_q2e': 'DV_HKickDrag',\n",
    "    's9p6_q2f': 'DV_HChokeBurn',\n",
    "    's9p6_q2g': 'DV_HWeapon',\n",
    "    's9p6_q2h': 'DV_HNCSex',\n",
    "    's9p6_q3': 'DV_HouseMem',\n",
    "    's9p6_q4_r1': 'DV_HouseMem1',\n",
    "    's9p6_q4_r2': 'DV_HouseMem2',\n",
    "    's9p6_q4_r3': 'DV_HouseMem3',\n",
    "    's9p6_q4_r4': 'DV_HouseMem4',\n",
    "    's9p6_q4_r5': 'DV_HouseMem5',\n",
    "    's9p6_q5': 'DV_Share',\n",
    "    's9p6_q6_r1': 'DV_Share1',\n",
    "    's9p6_q6_r2': 'DV_Share2',\n",
    "    's9p6_q6_r3': 'DV_Share3',\n",
    "    's9p6_q6_r4': 'DV_Share4',\n",
    "    's9p6_q7a': 'DV_II_TtL',\n",
    "    's9p6_q7b': 'DV_II_ComeinRoom',\n",
    "    's9p6_q7c': 'DV_II_Interference',\n",
    "    's9p6_q8': 'DV_IntComment'\n",
    "}\n",
    "\n",
    "df_2013.rename(columns=rename_mapping, inplace=True)\n",
    "\n",
    "# Drop redundant columns\n",
    "df_2013.drop(df_2013.columns[df_2013.columns.str.contains('Unnamed', case=True)], axis=1, inplace=True)\n",
    "df_2013.drop(df_2013.columns[df_2013.columns.str.contains(' ', case=False)], axis=1, inplace=True)\n",
    "\n",
    "# Save the merged dataframe to a CSV file\n",
    "df_2013.to_csv('23. merged_Woman decision making Domestic Violence.csv', index=False)"
   ]
  },
  {
   "cell_type": "code",
   "execution_count": null,
   "id": "45f7835b-68d4-403c-a884-c36669ec385f",
   "metadata": {},
   "outputs": [],
   "source": []
  }
 ],
 "metadata": {
  "kernelspec": {
   "display_name": "Python 3 (ipykernel)",
   "language": "python",
   "name": "python3"
  },
  "language_info": {
   "codemirror_mode": {
    "name": "ipython",
    "version": 3
   },
   "file_extension": ".py",
   "mimetype": "text/x-python",
   "name": "python",
   "nbconvert_exporter": "python",
   "pygments_lexer": "ipython3",
   "version": "3.11.7"
  }
 },
 "nbformat": 4,
 "nbformat_minor": 5
}
