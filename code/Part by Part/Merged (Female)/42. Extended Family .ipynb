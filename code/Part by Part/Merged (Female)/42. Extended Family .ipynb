{
 "cells": [
  {
   "cell_type": "code",
   "execution_count": 1,
   "id": "b06248f4-d50e-4ac4-9a12-91213643d91d",
   "metadata": {},
   "outputs": [],
   "source": [
    "# This code block stores file paths to variables to make the code neat\n",
    "# The stored variables are called in the read_excel function and stored as dataframes\n",
    "\n",
    "import pandas as pd\n",
    "import numpy as np\n",
    "\n",
    "# Store excel file locations to variables (change it as per your path to file)\n",
    "file_2013=r\"C:\\Users\\warra\\Desktop\\Freelance\\data\\data\\FemaleMerge\\1. Merging by Parts\\42. Section 11 Extended Family Module - Information on Natal Family (Female)\\2013_s6_f.csv\"\n",
    "\n",
    "# Read excel files\n",
    "df_2013 = pd.read_csv(file_2013)\n"
   ]
  },
  {
   "cell_type": "code",
   "execution_count": 2,
   "id": "51a5aad7-5898-4f02-948f-c3bcced01f6c",
   "metadata": {},
   "outputs": [],
   "source": [
    "# Rename columns for the merged file (if needed)\n",
    "rename_mapping = {\n",
    "    'hid': 'HID',\n",
    "    'round': 'Survey_Round',\n",
    "    's6_q1': 'ExF_NH',\n",
    "    's6_q3': 'ExF_NFV',\n",
    "    's6_q4': 'ExF_NH_Dist',\n",
    "    's6_q5': 'ExF_NH_VisitSameDay',\n",
    "    's6_q6': 'ExF_NHMem_MeetFreq',\n",
    "    's6_q7': 'ExF_FRN',\n",
    "    's6_q8': 'ExF_FAS',\n",
    "    's6_q9': 'ExF_FHLE',\n",
    "    's6_q10': 'ExF_ToM_Fsal',\n",
    "    's6_q11_area': 'ExF_ToM_FLOArea',\n",
    "    's6_q11_unit': 'ExF_ToM_FLOUnit',\n",
    "    's6_q12a_brothers': 'ExF_ToM_TB',\n",
    "    's6_q12a_sisters': 'ExF_ToM_TS',\n",
    "    's6_q12b_brothers': 'ExF_ToM_0t5TB',\n",
    "    's6_q12b_sisters': 'ExF_ToM_0t5TS',\n",
    "    's6_q12c_brothers': 'ExF_ToM_0t5YTB',\n",
    "    's6_q12c_sisters': 'ExF_ToM_0t5YTS',\n",
    "    's6_q13': 'ExF_SDb5yo',\n",
    "    's6_q14_brothers': 'ExF_SD_B',\n",
    "    's6_q14_sisters': 'ExF_SD_S'\n",
    "}\n",
    "\n",
    "df_2013.rename(columns=rename_mapping, inplace=True)\n",
    "\n",
    "# Drop redundant columns\n",
    "df_2013.drop(df_2013.columns[df_2013.columns.str.contains('Unnamed', case=True)], axis=1, inplace=True)\n",
    "df_2013.drop(df_2013.columns[df_2013.columns.str.contains(' ', case=False)], axis=1, inplace=True)\n",
    "\n",
    "# Save the merged dataframe to a CSV file\n",
    "df_2013.to_csv('12. merged_Extended Family.csv', index=False)\n"
   ]
  },
  {
   "cell_type": "code",
   "execution_count": null,
   "id": "45f7835b-68d4-403c-a884-c36669ec385f",
   "metadata": {},
   "outputs": [],
   "source": []
  }
 ],
 "metadata": {
  "kernelspec": {
   "display_name": "Python 3 (ipykernel)",
   "language": "python",
   "name": "python3"
  },
  "language_info": {
   "codemirror_mode": {
    "name": "ipython",
    "version": 3
   },
   "file_extension": ".py",
   "mimetype": "text/x-python",
   "name": "python",
   "nbconvert_exporter": "python",
   "pygments_lexer": "ipython3",
   "version": "3.11.7"
  }
 },
 "nbformat": 4,
 "nbformat_minor": 5
}
