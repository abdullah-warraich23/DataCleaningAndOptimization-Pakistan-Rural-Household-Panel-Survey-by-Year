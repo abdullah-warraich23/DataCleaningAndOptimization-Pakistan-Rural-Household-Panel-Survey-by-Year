{
 "cells": [
  {
   "cell_type": "code",
   "execution_count": 1,
   "id": "b06248f4-d50e-4ac4-9a12-91213643d91d",
   "metadata": {},
   "outputs": [],
   "source": [
    "# This code block stores file paths to variables to make the code neat\n",
    "# The stored variables are called in the read_excel function and stored as dataframes\n",
    "\n",
    "import pandas as pd\n",
    "import numpy as np\n",
    "\n",
    "# Store excel file locations to variables (change it as per your path to file)\n",
    "file_2013=r\"C:\\Users\\warra\\Desktop\\Freelance\\data\\data\\FemaleMerge\\1. Merging by Parts\\15. Section 3 part 3 Subjective Well-being of First Female Respondent\\2013_s3p3_f.csv\"\n",
    "\n",
    "\n",
    "# Read excel files\n",
    "df_2013 = pd.read_csv(file_2013)\n",
    "\n"
   ]
  },
  {
   "cell_type": "code",
   "execution_count": 5,
   "id": "51a5aad7-5898-4f02-948f-c3bcced01f6c",
   "metadata": {},
   "outputs": [],
   "source": [
    "# Rename columns for the merged file (if needed)\n",
    "rename_mapping = {\n",
    "   'hid': 'HID',\n",
    "    'round': 'Survey_Round',\n",
    "    'r_pid': 'PID',\n",
    "    's3p3a_q1': 'SWB_HHStanding',\n",
    "    's3p3a_q2': 'SWB_NeighEarnComp',\n",
    "    's3p3a_q3': 'SWB_Econ_2yAgo',\n",
    "    's3p3a_q4': 'SWB_Econ_2yLater',\n",
    "    's3p3a_q5': 'SWB_HHStanding_Comm',\n",
    "    's3p3a_q6': 'SWB_Happ',\n",
    "    's3p3a_q7': 'SWB_LoPI',\n",
    "    's3p3a_q8': 'SWB_LoPI_expect',\n",
    "    's3p3a_q9': 'SWB_LoHHI',\n",
    "    's3p3a_q10': 'SWB_LoHHI_Expect',\n",
    "    's3p3a_q11': 'SWB_LoA',\n",
    "    's3p3a_q12': 'SWB_LoA_Expect',\n",
    "    's3p3a_q13': 'SWB_LoSS',\n",
    "    's3p3a_q14': 'SWB_LoSS_Expect',\n",
    "    's3p3a_q15': 'SWB_LoE',\n",
    "    's3p3a_q16': 'SWB_LoE_Expect',\n",
    "    's3p3a_q17': 'SWB_LoE_ExpectCh',\n",
    "    's3p3a_q18a': 'SWB_NoB_AI',\n",
    "    's3p3a_q18b': 'SWB_NoB_A',\n",
    "    's3p3a_q18c': 'SWB_NoB_SS',\n",
    "    's3p3a_q18d': 'SWB_NoB_E',\n",
    "    's3p3b_q1_1': 'SWB2F_Stsfid_PerRel',\n",
    "    's3p3b_q1_2': 'SWB2F_Stsfid_PhyHeal',\n",
    "    's3p3b_q1_3': 'SWB2F_Stsfid_MntlWB',\n",
    "    's3p3b_q1_4': 'SWB2F_Stsfid_WS',\n",
    "    's3p3b_q1_5': 'SWB_Stsfid_FS',\n",
    "    's3p3b_q1_6': 'SWB_Stsfid_AoR',\n",
    "    's3p3b_q1_7': 'SWB_Stsfid_HHSS',\n",
    "    's3p3b_q1_8': 'SWB_Stsfid_TTYL',\n",
    "    's3p3b_q1_9': 'SWB_Stsfid_ChWB',\n",
    "    's3p3b_q2_1': 'SWB_CnGS_2w',\n",
    "    's3p3b_q2_2': 'SWB_CnR_2w',\n",
    "    's3p3b_q2_3': 'SWB_AnV_2w',\n",
    "    's3p3b_q2_4': 'SWB_FnR_2w',\n",
    "    's3p3b_q2_5': 'SWB_Interest_2w'\n",
    "}\n",
    "\n",
    "df_2013.rename(columns=rename_mapping, inplace=True)\n",
    "\n",
    "# Drop redundant columns\n",
    "df_2013.drop(df_2013.columns[df_2013.columns.str.contains('Unnamed', case=True)], axis=1, inplace=True)\n",
    "df_2013.drop(df_2013.columns[df_2013.columns.str.contains(' ', case=False)], axis=1, inplace=True)\n",
    "# Save the merged dataframe to a CSV file\n",
    "df_2013.to_csv('3. merged_merged_CnE_SWB First Female Respondent .csv', index=False)\n"
   ]
  },
  {
   "cell_type": "code",
   "execution_count": null,
   "id": "45f7835b-68d4-403c-a884-c36669ec385f",
   "metadata": {},
   "outputs": [],
   "source": []
  }
 ],
 "metadata": {
  "kernelspec": {
   "display_name": "Python 3 (ipykernel)",
   "language": "python",
   "name": "python3"
  },
  "language_info": {
   "codemirror_mode": {
    "name": "ipython",
    "version": 3
   },
   "file_extension": ".py",
   "mimetype": "text/x-python",
   "name": "python",
   "nbconvert_exporter": "python",
   "pygments_lexer": "ipython3",
   "version": "3.11.7"
  }
 },
 "nbformat": 4,
 "nbformat_minor": 5
}
