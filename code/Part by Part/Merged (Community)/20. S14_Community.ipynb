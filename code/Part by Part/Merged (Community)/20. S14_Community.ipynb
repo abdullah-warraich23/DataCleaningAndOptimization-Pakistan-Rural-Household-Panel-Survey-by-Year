{
 "cells": [
  {
   "cell_type": "code",
   "execution_count": 2,
   "id": "b06248f4-d50e-4ac4-9a12-91213643d91d",
   "metadata": {},
   "outputs": [],
   "source": [
    "# This code block stores file paths to variables to make the code neat\n",
    "# The stored variables are called in the read_excel function and stored as dataframes\n",
    "\n",
    "import pandas as pd\n",
    "import numpy as np\n",
    "# Store excel file locations to variables\n",
    "\n",
    "Com_2012 = r\"C:\\Users\\warra\\Desktop\\Freelance\\data\\data\\CommunityMerge\\1. Merging by Parts\\17. S12 Distance of the Village from the Important Institutions\\2012_s9.csv\"\n",
    "\n",
    "# Read excel files \n",
    "df_2012 = pd.read_csv(Com_2012)\n",
    "\n",
    "\n"
   ]
  },
  {
   "cell_type": "code",
   "execution_count": 3,
   "id": "51a5aad7-5898-4f02-948f-c3bcced01f6c",
   "metadata": {},
   "outputs": [],
   "source": [
    "# Rename columns for the merged file (if needed)\n",
    "rename_mapping = {\n",
    "    'round': 'Survey_Round',\n",
    "    'cid': 'CID',\n",
    "    'community': 'Community',\n",
    "    'location_id': 'Loc_ID',\n",
    "    'S9QA': 'Loc_IINear_DistKM',\n",
    "    'S9QB': 'Loc_IINear_RC',\n",
    "    'fid': 'FID',\n",
    "    'PROVINCE_ID': 'P_ID',\n",
    "    'DISTRICT_ID': 'D_ID',\n",
    "    'TEHSIL_ID': 'T_ID',\n",
    "    'MAUZA_ID': 'M_ID',\n",
    "    'S9Q7': 'LocF_SalNoPPD',\n",
    "    'S9Q8': 'LocF_OwnBNoPPDV',\n",
    "    'S9Q9': 'LocF_VRad20KM',\n",
    "    'S9Q10': 'LocF_NoVRad20KM',\n",
    "    'S9Q11': 'LocF_NoPWork',\n",
    "    'S9Q12': 'LocF_NearVKM',\n",
    "    'S9Q13': 'LocF_Start_y',\n",
    "    'S9Q14': 'LocF_DistVKM',\n",
    "    'S9Q15': 'LocF_RC'\n",
    "}\n",
    "\n",
    "\n",
    "df_2012.rename(columns=rename_mapping, inplace=True)\n",
    "\n",
    "# Drop redundant columns\n",
    "df_2012.drop(df_2012.columns[df_2012.columns.str.contains('Unnamed', case=True)], axis=1, inplace=True)\n",
    "df_2012.drop(df_2012.columns[df_2012.columns.str.contains(' ', case=False)], axis=1, inplace=True)\n",
    "\n",
    "# Save the merged dataframe to a CSV file\n",
    "df_2012.to_csv('15. merged_S14_Distance of the Village from the Important Institutions.csv', index=False)\n",
    "\n"
   ]
  },
  {
   "cell_type": "code",
   "execution_count": null,
   "id": "c1a984fb-cef4-4d9e-9ac9-b680d6f41940",
   "metadata": {},
   "outputs": [],
   "source": []
  }
 ],
 "metadata": {
  "kernelspec": {
   "display_name": "Python 3 (ipykernel)",
   "language": "python",
   "name": "python3"
  },
  "language_info": {
   "codemirror_mode": {
    "name": "ipython",
    "version": 3
   },
   "file_extension": ".py",
   "mimetype": "text/x-python",
   "name": "python",
   "nbconvert_exporter": "python",
   "pygments_lexer": "ipython3",
   "version": "3.11.7"
  }
 },
 "nbformat": 4,
 "nbformat_minor": 5
}
