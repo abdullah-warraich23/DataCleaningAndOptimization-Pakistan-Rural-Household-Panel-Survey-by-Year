{
 "cells": [
  {
   "cell_type": "code",
   "execution_count": null,
   "id": "b7e877b5-ee61-4e99-a33b-dcb46ee3c1ab",
   "metadata": {},
   "outputs": [],
   "source": [
    "'''\n",
    "This notebook contains the code to merge all Prices data across the years based on sections.\n",
    "There are datasets for 2012, 2013 and 2014\n",
    "'''"
   ]
  },
  {
   "cell_type": "code",
   "execution_count": null,
   "id": "0606eb06-a5d4-4b00-aa0f-37dc3ce09185",
   "metadata": {},
   "outputs": [],
   "source": []
  },
  {
   "cell_type": "code",
   "execution_count": 1,
   "id": "13dc2f38-e53b-4f85-98e9-98c1f975e54e",
   "metadata": {},
   "outputs": [],
   "source": [
    "# Define the folder path where the data files are located\n",
    "data_folder = r\"C:\\Users\\warra\\Desktop\\Freelance\\data\\data\\PriceMerge\\2. MERGED CSV Sections\\2. Section 1 Basic Information about District, UC and M Level Respondents\"\n",
    "\n",
    "# List of all the file names to be merged\n",
    "file_names = ['1 merged_Prices_Basic-Information-about-District-Level-Respondents.csv',\n",
    "             '2 merged_Prices_Basic-Information-about-Union-Council-Level-Respondents.csv',\n",
    "             '3 merged_Prices_Basic-Information-about-Mouza-Level-Respondents.csv']"
   ]
  },
  {
   "cell_type": "code",
   "execution_count": null,
   "id": "3cb59a1c-173b-4188-9b5e-7ec3de5f4295",
   "metadata": {},
   "outputs": [],
   "source": [
    "    \"\"\"\n",
    "The following cell\n",
    "    * Merges multiple CSV files based on specified merge keys.\n",
    "\n",
    "    * Parameters:\n",
    "     - data_folder (str): The folder path where the data files are located.\n",
    "     - file_names (list of str): List of all the file names to be merged.\n",
    "     - output_file (str): The name of the output file where merged data will be saved.\n",
    "     - merge_keys (list of str): List of keys to merge the data on.\n",
    "\n",
    "    * Returns:\n",
    "     - None\n",
    "    \"\"\""
   ]
  },
  {
   "cell_type": "code",
   "execution_count": 3,
   "id": "e53b5e80-68e5-4d4a-a5f5-75f25ca54375",
   "metadata": {},
   "outputs": [
    {
     "name": "stdout",
     "output_type": "stream",
     "text": [
      "Looking for file: C:\\Users\\warra\\Desktop\\Freelance\\data\\data\\PriceMerge\\2. MERGED CSV Sections\\2. Section 1 Basic Information about District, UC and M Level Respondents\\1 merged_Prices_Basic-Information-about-District-Level-Respondents.csv\n",
      "File found: C:\\Users\\warra\\Desktop\\Freelance\\data\\data\\PriceMerge\\2. MERGED CSV Sections\\2. Section 1 Basic Information about District, UC and M Level Respondents\\1 merged_Prices_Basic-Information-about-District-Level-Respondents.csv\n",
      "Looking for file: C:\\Users\\warra\\Desktop\\Freelance\\data\\data\\PriceMerge\\2. MERGED CSV Sections\\2. Section 1 Basic Information about District, UC and M Level Respondents\\2 merged_Prices_Basic-Information-about-Union-Council-Level-Respondents.csv\n",
      "File found: C:\\Users\\warra\\Desktop\\Freelance\\data\\data\\PriceMerge\\2. MERGED CSV Sections\\2. Section 1 Basic Information about District, UC and M Level Respondents\\2 merged_Prices_Basic-Information-about-Union-Council-Level-Respondents.csv\n",
      "Looking for file: C:\\Users\\warra\\Desktop\\Freelance\\data\\data\\PriceMerge\\2. MERGED CSV Sections\\2. Section 1 Basic Information about District, UC and M Level Respondents\\3 merged_Prices_Basic-Information-about-Mouza-Level-Respondents.csv\n",
      "File found: C:\\Users\\warra\\Desktop\\Freelance\\data\\data\\PriceMerge\\2. MERGED CSV Sections\\2. Section 1 Basic Information about District, UC and M Level Respondents\\3 merged_Prices_Basic-Information-about-Mouza-Level-Respondents.csv\n",
      "Merged data saved successfully!\n"
     ]
    }
   ],
   "source": [
    "import pandas as pd\n",
    "import os\n",
    "\n",
    "# Initialize an empty DataFrame to hold the merged data\n",
    "merged_df = pd.DataFrame()\n",
    "\n",
    "# Iterate over each file in the list, read it, and concatenate it to the merged DataFrame\n",
    "for file_name in file_names:\n",
    "    file_path = os.path.join(data_folder, file_name)  # Create the full file path\n",
    "    print(f\"Looking for file: {file_path}\")  # Debug print\n",
    "    if os.path.exists(file_path):\n",
    "        print(f\"File found: {file_path}\")  # Debug print\n",
    "        df = pd.read_csv(file_path, dtype=str)  # Read the CSV file with all columns as strings to handle mixed data types\n",
    "        merged_df = pd.concat([merged_df, df], ignore_index=True)  # Concatenate the current file's data to the merged DataFrame\n",
    "    else:\n",
    "        print(f\"File not found: {file_path}\")  # Debug print\n",
    "\n",
    "# Proceed only if merged_df is not empty\n",
    "if not merged_df.empty:\n",
    "    # Reorder columns alphabetically; put columns starting with digits at the end\n",
    "    sorted_columns = sorted(merged_df.columns, key=lambda x: (x[0].isdigit(), x))\n",
    "    # Reorder the DataFrame columns according to the defined order\n",
    "    merged_df = merged_df[sorted_columns]\n",
    "\n",
    "    # Remove columns that are entirely empty\n",
    "    merged_df.dropna(axis=1, how='all', inplace=True)\n",
    "    # Remove rows that are entirely empty\n",
    "    merged_df.dropna(axis=0, how='all', inplace=True)\n",
    "\n",
    "    # Save the merged and processed data to a new CSV file\n",
    "    merged_df.to_csv('2. Basic Information about District, UC and M Level Respondents.csv', index=False)\n",
    "    print(\"Merged data saved successfully!\")\n",
    "else:\n",
    "    print(\"No data to merge and save.\")\n"
   ]
  }
 ],
 "metadata": {
  "kernelspec": {
   "display_name": "Python 3 (ipykernel)",
   "language": "python",
   "name": "python3"
  },
  "language_info": {
   "codemirror_mode": {
    "name": "ipython",
    "version": 3
   },
   "file_extension": ".py",
   "mimetype": "text/x-python",
   "name": "python",
   "nbconvert_exporter": "python",
   "pygments_lexer": "ipython3",
   "version": "3.11.7"
  }
 },
 "nbformat": 4,
 "nbformat_minor": 5
}
