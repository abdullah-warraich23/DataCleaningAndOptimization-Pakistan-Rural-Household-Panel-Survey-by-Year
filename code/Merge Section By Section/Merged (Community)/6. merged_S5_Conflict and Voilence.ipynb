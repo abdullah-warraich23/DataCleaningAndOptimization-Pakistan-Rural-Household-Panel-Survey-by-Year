{
 "cells": [
  {
   "cell_type": "code",
   "execution_count": 1,
   "id": "b06248f4-d50e-4ac4-9a12-91213643d91d",
   "metadata": {},
   "outputs": [],
   "source": [
    "# This code block stores file paths to variables to make the code neat\n",
    "# The stored variables are called in the read_excel function and stored as dataframes\n",
    "\n",
    "import pandas as pd\n",
    "import numpy as np\n",
    "# Store excel file locations to variables\n",
    "\n",
    "\n",
    "Com_2014 = r\"C:\\Users\\warra\\Desktop\\Freelance\\data\\data\\CommunityMerge\\1. Merging by Parts\\8. S4 Conflict and Violence\\2014_s5_community.csv\"\n",
    "\n",
    "# Read csv files \n",
    "\n",
    "df_2014 = pd.read_csv(Com_2014)\n",
    "\n"
   ]
  },
  {
   "cell_type": "code",
   "execution_count": 3,
   "id": "51a5aad7-5898-4f02-948f-c3bcced01f6c",
   "metadata": {},
   "outputs": [],
   "source": [
    "# Rename columns for the merged file (if needed)\n",
    "rename_mapping = {\n",
    "     'cid': 'CID',\n",
    "    's5_q1': 'CnV_PM_Y',\n",
    "    's5_q2': 'CnV_NoPM_y',\n",
    "    's5_q11': 'CnV_MVM_y',\n",
    "    's5_q12': 'CnV_NoMVM_y',\n",
    "    's5_q21': 'CnV_MurdM_y',\n",
    "    's5_q22': 'CnV_NoMurdM_y',\n",
    "    's5_q27': 'CnV_TAM_y',\n",
    "    's5_q28': 'CnV_NoTAM_y',\n",
    "    'protest_id': 'CnV_Pro_ID',\n",
    "    's5_q3': 'CnV_ProtStart_m',\n",
    "    's5_q4': 'CnV_ProtStart_y',\n",
    "    's5_q5': 'CnV_Pro_Motiv',\n",
    "    's5_q6': 'CnV_Pro_NoPart',\n",
    "    's5_q7': 'CnV_ProDura_d',\n",
    "    's5_q8': 'CnV_Pro_Viol',\n",
    "    's5_q9': 'CnV_Pro_NoI',\n",
    "    's5_q10': 'CnV_Pro_NoF',\n",
    "    'murder_id': 'CnV_Murd_ID',\n",
    "    's5_q23': 'CnV_Murd_m',\n",
    "    's5_q24': 'CnV_Murd_y',\n",
    "    's5_q25': 'CnV_Murd_NoK',\n",
    "    's5_q26': 'CnV_Murd_Res'\n",
    "}\n",
    "\n",
    "\n",
    "df_2014.rename(columns=rename_mapping, inplace=True)\n",
    "\n",
    "# Drop redundant columns\n",
    "df_2014.drop(df_2014.columns[df_2014.columns.str.contains('Unnamed', case=True)], axis=1, inplace=True)\n",
    "df_2014.drop(df_2014.columns[df_2014.columns.str.contains(' ', case=False)], axis=1, inplace=True)\n",
    "\n",
    "# Save the merged dataframe to a CSV file\n",
    "df_2014.to_csv('6. merged_S5_Conflict and Voilence.csv', index=False)\n",
    "\n"
   ]
  },
  {
   "cell_type": "code",
   "execution_count": null,
   "id": "c1a984fb-cef4-4d9e-9ac9-b680d6f41940",
   "metadata": {},
   "outputs": [],
   "source": []
  }
 ],
 "metadata": {
  "kernelspec": {
   "display_name": "Python 3 (ipykernel)",
   "language": "python",
   "name": "python3"
  },
  "language_info": {
   "codemirror_mode": {
    "name": "ipython",
    "version": 3
   },
   "file_extension": ".py",
   "mimetype": "text/x-python",
   "name": "python",
   "nbconvert_exporter": "python",
   "pygments_lexer": "ipython3",
   "version": "3.11.7"
  }
 },
 "nbformat": 4,
 "nbformat_minor": 5
}
