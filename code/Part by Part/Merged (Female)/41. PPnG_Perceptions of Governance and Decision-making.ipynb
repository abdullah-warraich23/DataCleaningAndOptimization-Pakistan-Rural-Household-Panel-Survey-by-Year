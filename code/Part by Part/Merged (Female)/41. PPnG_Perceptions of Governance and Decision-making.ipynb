{
 "cells": [
  {
   "cell_type": "code",
   "execution_count": 2,
   "id": "6e305687-4f6c-4e17-9d48-05102d8af7f0",
   "metadata": {},
   "outputs": [],
   "source": [
    "#since there are 2 files for this section in multiple years, we will make a standardized single file for sectional merging\n",
    "\n",
    "import pandas as pd\n",
    "\n",
    "# Load the first file\n",
    "df1 = pd.read_csv(r\"C:\\Users\\warra\\Desktop\\Freelance\\data\\data\\FemaleMerge\\1. Merging by Parts\\41. Section 10 Part 4 Political Participation and Governance - Perceptions of Governance and Decision-making\\2013_s5p4_f.csv\")\n",
    "\n",
    "# Load the second file\n",
    "df2 = pd.read_csv(r\"C:\\Users\\warra\\Desktop\\Freelance\\data\\data\\FemaleMerge\\1. Merging by Parts\\41. Section 10 Part 4 Political Participation and Governance - Perceptions of Governance and Decision-making\\2013_s5p4_q2q3q5q6_f.csv\")\n",
    "\n",
    "# Merge the two files based on a common column\n",
    "#merged_df = pd.merge(df1, df2, on='common_column', how='inner')\n",
    "merged_df = pd.concat([df1, df2], ignore_index=True)\n",
    "\n",
    "# Drop redundant columns\n",
    "merged_df.drop(merged_df.columns[merged_df.columns.str.contains('Unnamed', case=True)], axis=1, inplace=True)\n",
    "merged_df.drop(merged_df.columns[merged_df.columns.str.contains(' ', case=False)], axis=1, inplace=True)\n",
    "# Save the merged dataframe to a CSV file\n",
    "merged_df.to_csv('2013_s5p4.csv', index=True)"
   ]
  },
  {
   "cell_type": "code",
   "execution_count": 3,
   "id": "b06248f4-d50e-4ac4-9a12-91213643d91d",
   "metadata": {},
   "outputs": [],
   "source": [
    "# This code block stores file paths to variables to make the code neat\n",
    "# The stored variables are called in the read_excel function and stored as dataframes\n",
    "\n",
    "import pandas as pd\n",
    "import numpy as np\n",
    "\n",
    "# Store excel file locations to variables (change it as per your path to file)\n",
    "file_2013=r\"C:\\Users\\warra\\Desktop\\Freelance\\data\\data\\FemaleMerge\\1. Merging by Parts\\41. Section 10 Part 4 Political Participation and Governance - Perceptions of Governance and Decision-making\\2013_s5p4.csv\"\n",
    "\n",
    "# Read excel files\n",
    "df_2013 = pd.read_csv(file_2013)\n"
   ]
  },
  {
   "cell_type": "code",
   "execution_count": 4,
   "id": "51a5aad7-5898-4f02-948f-c3bcced01f6c",
   "metadata": {},
   "outputs": [],
   "source": [
    "# Rename columns for the merged file (if needed)\n",
    "rename_mapping = {\n",
    "   'hid': 'HID',\n",
    "    'round': 'Survey_Round',\n",
    "    's5p4_sr': 'PGnDM_SrNo',\n",
    "    's5p4_actions': 'PGnDM_Action_Name',\n",
    "    's5p4_response1': 'PGnDM_LandDispute',\n",
    "    's5p4_response4': 'PGnDM_SecurityConcern',\n",
    "    's5p4_q2': 'PGnDM_LandDispute_MEA',\n",
    "    's5p4_q3': 'PGnDM_LandDispute_SMEA',\n",
    "    's5p4_q5': 'PGnDM_SecurityConcern_MEA',\n",
    "    's5p4_q6': 'PGnDM_SecurityConcernSMEA'\n",
    "}\n",
    "\n",
    "merged_df.rename(columns=rename_mapping, inplace=True)\n",
    "'''\n",
    "# Drop redundant columns\n",
    "merged_df.drop(merged_df.columns[merged_df.columns.str.contains('Unnamed', case=True)], axis=1, inplace=True)\n",
    "merged_df.drop(merged_df.columns[merged_df.columns.str.contains(' ', case=False)], axis=1, inplace=True)\n",
    "'''\n",
    "# Save the merged dataframe to a CSV file\n",
    "merged_df.to_csv('4. merged_PPnG_Perceptions of Governance and Decision-making.csv', index=False)\n"
   ]
  },
  {
   "cell_type": "code",
   "execution_count": null,
   "id": "45f7835b-68d4-403c-a884-c36669ec385f",
   "metadata": {},
   "outputs": [],
   "source": []
  }
 ],
 "metadata": {
  "kernelspec": {
   "display_name": "Python 3 (ipykernel)",
   "language": "python",
   "name": "python3"
  },
  "language_info": {
   "codemirror_mode": {
    "name": "ipython",
    "version": 3
   },
   "file_extension": ".py",
   "mimetype": "text/x-python",
   "name": "python",
   "nbconvert_exporter": "python",
   "pygments_lexer": "ipython3",
   "version": "3.11.7"
  }
 },
 "nbformat": 4,
 "nbformat_minor": 5
}
