{
 "cells": [
  {
   "cell_type": "code",
   "execution_count": 2,
   "id": "b06248f4-d50e-4ac4-9a12-91213643d91d",
   "metadata": {},
   "outputs": [],
   "source": [
    "import pandas as pd\n",
    "\n",
    "# Load the second file\n",
    "df1 = pd.read_csv(r\"C:\\Users\\warra\\Desktop\\Freelance\\data\\data\\CommunityMerge\\3. MERGED CSV Sections\\13 . S12 Business Environment and Organizations\\1. merged_S12P1_Business Environment and Organizations.csv\")\n",
    "df2 = pd.read_csv(r\"C:\\Users\\warra\\Desktop\\Freelance\\data\\data\\CommunityMerge\\3. MERGED CSV Sections\\13 . S12 Business Environment and Organizations\\2. merged_S12P2_Business Environment and Organizations.csv\")\n",
    "df3 = pd.read_csv(r\"C:\\Users\\warra\\Desktop\\Freelance\\data\\data\\CommunityMerge\\3. MERGED CSV Sections\\13 . S12 Business Environment and Organizations\\3. merged_S12P3_Business Environment and Organizations.csv\")\n",
    "df4 = pd.read_csv(r\"C:\\Users\\warra\\Desktop\\Freelance\\data\\data\\CommunityMerge\\3. MERGED CSV Sections\\13 . S12 Business Environment and Organizations\\4. merged_S12P4_Business Environment and Organizations.csv\")\n",
    "\n",
    "# Merge the two files based on a common column\n",
    "merged_df = pd.concat([df1, df2, df3, df4], ignore_index=True)\n",
    "\n",
    "# Drop redundant columns\n",
    "merged_df.drop(merged_df.columns[merged_df.columns.str.contains('Unnamed', case=True)], axis=1, inplace=True)\n",
    "merged_df.drop(merged_df.columns[merged_df.columns.str.contains(' ', case=False)], axis=1, inplace=True)\n",
    "# Save the merged dataframe to a CSV file\n",
    "merged_df.to_csv('13. merged_S12_Business Environment and Organizations.csv', index=True)"
   ]
  },
  {
   "cell_type": "code",
   "execution_count": null,
   "id": "c1a984fb-cef4-4d9e-9ac9-b680d6f41940",
   "metadata": {},
   "outputs": [],
   "source": []
  }
 ],
 "metadata": {
  "kernelspec": {
   "display_name": "Python 3 (ipykernel)",
   "language": "python",
   "name": "python3"
  },
  "language_info": {
   "codemirror_mode": {
    "name": "ipython",
    "version": 3
   },
   "file_extension": ".py",
   "mimetype": "text/x-python",
   "name": "python",
   "nbconvert_exporter": "python",
   "pygments_lexer": "ipython3",
   "version": "3.11.7"
  }
 },
 "nbformat": 4,
 "nbformat_minor": 5
}
