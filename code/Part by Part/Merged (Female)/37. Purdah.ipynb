{
 "cells": [
  {
   "cell_type": "code",
   "execution_count": 2,
   "id": "b06248f4-d50e-4ac4-9a12-91213643d91d",
   "metadata": {},
   "outputs": [],
   "source": [
    "# This code block stores file paths to variables to make the code neat\n",
    "# The stored variables are called in the read_excel function and stored as dataframes\n",
    "\n",
    "import pandas as pd\n",
    "import numpy as np\n",
    "\n",
    "# Store excel file locations to variables (change it as per your path to file)\n",
    "file_2012=r\"C:\\Users\\warra\\Desktop\\Freelance\\data\\data\\FemaleMerge\\1. Merging by Parts\\37. Section 9 Purdah and Safety\\2012_s4_f.csv\"\n",
    "\n",
    "\n",
    "# Read excel files\n",
    "df_2012 = pd.read_csv(file_2012)\n",
    "\n"
   ]
  },
  {
   "cell_type": "code",
   "execution_count": 3,
   "id": "51a5aad7-5898-4f02-948f-c3bcced01f6c",
   "metadata": {},
   "outputs": [],
   "source": [
    "# Rename columns for the merged file (if needed)\n",
    "rename_mapping = {\n",
    "   'hid': 'HID',\n",
    "    'round': 'Survey_Round',\n",
    "    'pid': 'PID',\n",
    "    'S4Q1': 'P_NH',\n",
    "    'S4Q2': 'P_Now',\n",
    "    'S4Q3': 'P_WS',\n",
    "    'S4Q4': 'P_OS',\n",
    "    'S4Q5': 'P_WP',\n",
    "    'S4Q6': 'P_WS_SWTA',\n",
    "    'S4Q7': 'P_OS_SWTA',\n",
    "    'PROVINCE_ID': 'P_ID',\n",
    "    'DISTRICT_ID': 'D_ID',\n",
    "    'TEHSIL_ID': 'T_ID',\n",
    "    'UC_ID': 'UC_ID',\n",
    "    'MAUZA_ID': 'M_ID'\n",
    "}\n",
    "\n",
    "df_2012.rename(columns=rename_mapping, inplace=True)\n",
    "\n",
    "# Drop redundant columns\n",
    "df_2012.drop(df_2012.columns[df_2012.columns.str.contains('Unnamed', case=True)], axis=1, inplace=True)\n",
    "df_2012.drop(df_2012.columns[df_2012.columns.str.contains(' ', case=False)], axis=1, inplace=True)\n",
    "\n",
    "# Save the merged dataframe to a CSV file\n",
    "df_2012.to_csv('10. merged_Purdah and Safety.csv', index=False)\n"
   ]
  },
  {
   "cell_type": "code",
   "execution_count": null,
   "id": "45f7835b-68d4-403c-a884-c36669ec385f",
   "metadata": {},
   "outputs": [],
   "source": []
  }
 ],
 "metadata": {
  "kernelspec": {
   "display_name": "Python 3 (ipykernel)",
   "language": "python",
   "name": "python3"
  },
  "language_info": {
   "codemirror_mode": {
    "name": "ipython",
    "version": 3
   },
   "file_extension": ".py",
   "mimetype": "text/x-python",
   "name": "python",
   "nbconvert_exporter": "python",
   "pygments_lexer": "ipython3",
   "version": "3.11.7"
  }
 },
 "nbformat": 4,
 "nbformat_minor": 5
}
