{
 "cells": [
  {
   "cell_type": "code",
   "execution_count": 1,
   "id": "b06248f4-d50e-4ac4-9a12-91213643d91d",
   "metadata": {},
   "outputs": [],
   "source": [
    "# This code block stores file paths to variables to make the code neat\n",
    "# The stored variables are called in the read_excel function and stored as dataframes\n",
    "\n",
    "import pandas as pd\n",
    "import numpy as np\n",
    "\n",
    "# Store excel file locations to variables (change it as per your path to file)\n",
    "file_2013=r\"C:\\Users\\warra\\Desktop\\Freelance\\data\\data\\FemaleMerge\\1. Merging by Parts\\26. Section 7 Part 8 Women Decision Making Mobility\\2013_s9p3_f.csv\"\n",
    "# Read excel files\n",
    "df_2013 = pd.read_csv(file_2013)\n",
    "\n"
   ]
  },
  {
   "cell_type": "code",
   "execution_count": 2,
   "id": "51a5aad7-5898-4f02-948f-c3bcced01f6c",
   "metadata": {},
   "outputs": [],
   "source": [
    "# Rename columns for the merged file (if needed)\n",
    "rename_mapping = {\n",
    "    'hid': 'HID',\n",
    "    'r_pid': 'PID',\n",
    "    's9p3_sr': 'Qno',\n",
    "    's9p3_aim': 'Mob_Purp',\n",
    "    's9p3_q1': 'Mob_CanGo',\n",
    "    's9p3_q2': 'Mob_CanGoA',\n",
    "    's9p3_q3': 'Mob_CanGoC',\n",
    "    's9p3_q4': 'Mob_CanGoAF',\n",
    "    's9p3_q5': 'Mob_CanGoAM',\n",
    "    's9p3_q6': 'Mob_Perm'\n",
    "}\n",
    "\n",
    "df_2013.rename(columns=rename_mapping, inplace=True)\n",
    "\n",
    "# Drop redundant columns\n",
    "df_2013.drop(df_2013.columns[df_2013.columns.str.contains('Unnamed', case=True)], axis=1, inplace=True)\n",
    "df_2013.drop(df_2013.columns[df_2013.columns.str.contains(' ', case=False)], axis=1, inplace=True)\n",
    "\n",
    "# Save the merged dataframe to a CSV file\n",
    "df_2013.to_csv('20. merged_Woman decision making Mobility.csv', index=False)"
   ]
  },
  {
   "cell_type": "code",
   "execution_count": null,
   "id": "45f7835b-68d4-403c-a884-c36669ec385f",
   "metadata": {},
   "outputs": [],
   "source": []
  }
 ],
 "metadata": {
  "kernelspec": {
   "display_name": "Python 3 (ipykernel)",
   "language": "python",
   "name": "python3"
  },
  "language_info": {
   "codemirror_mode": {
    "name": "ipython",
    "version": 3
   },
   "file_extension": ".py",
   "mimetype": "text/x-python",
   "name": "python",
   "nbconvert_exporter": "python",
   "pygments_lexer": "ipython3",
   "version": "3.11.7"
  }
 },
 "nbformat": 4,
 "nbformat_minor": 5
}
