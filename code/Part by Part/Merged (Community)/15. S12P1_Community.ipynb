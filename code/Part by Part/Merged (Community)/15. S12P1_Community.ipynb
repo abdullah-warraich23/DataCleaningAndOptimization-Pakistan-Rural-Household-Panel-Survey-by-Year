{
 "cells": [
  {
   "cell_type": "code",
   "execution_count": 1,
   "id": "b06248f4-d50e-4ac4-9a12-91213643d91d",
   "metadata": {},
   "outputs": [],
   "source": [
    "# This code block stores file paths to variables to make the code neat\n",
    "# The stored variables are called in the read_excel function and stored as dataframes\n",
    "\n",
    "import pandas as pd\n",
    "import numpy as np\n",
    "# Store excel file locations to variables\n",
    "\n",
    "Com_2012 = r\"C:\\Users\\warra\\Desktop\\Freelance\\data\\data\\CommunityMerge\\1. Merging by Parts\\15. S10P1 Business Environment and Organizations\\2012_com_s6_part1.csv\"\n",
    "\n",
    "# Read excel files \n",
    "df_2012 = pd.read_csv(Com_2012)\n"
   ]
  },
  {
   "cell_type": "code",
   "execution_count": 2,
   "id": "51a5aad7-5898-4f02-948f-c3bcced01f6c",
   "metadata": {},
   "outputs": [],
   "source": [
    "# Rename columns for the merged file (if needed)\n",
    "rename_mapping = {\n",
    "    'round': 'Survey_Round',\n",
    "    'cid': 'CID',\n",
    "    'community': 'Community',\n",
    "    'S6Q1A': 'BE_SoNFE',\n",
    "    'S6Q1B': 'BE_SoNFE_5y',\n",
    "    'S6Q2A': 'BE_SoNFE_PrmLis',\n",
    "    'S6Q3A': 'BE_NFE_TimeReg',\n",
    "    'S6Q3B': 'BE_NFE_TimeReg_5y',\n",
    "    'S6Q4A': 'BE_NFE_TimePTO',\n",
    "    'S6Q4B': 'BE_NFE_TimePTO_5y',\n",
    "    'S6Q5A': 'BE_NFE_Prm_NoA',\n",
    "    'S6Q5B': 'BE_NFE_PrmNoA_5y',\n",
    "    'S6Q6A': 'BE_NFE_PTOCost',\n",
    "    'S6Q6B': 'BE_NFE_PTOCost_5y',\n",
    "    'S6Q7A': 'BE_NFE_TimeLTO',\n",
    "    'S6Q7B': 'BE_NFE_TimeLTO_5y',\n",
    "    'S6Q8A': 'BE_NFE_LisNoA',\n",
    "    'S6Q8B': 'BE_NFE_LisNoA_5y',\n",
    "    'S6Q9A': 'BE_AME_Tax',\n",
    "    'S6Q9B': 'BE_AME_Tax_5y',\n",
    "    'S6Q10A': 'BE_ASE_Tax',\n",
    "    'S6Q10B': 'BE_ASE_Tax_5y',\n",
    "    'S6Q11A': 'BE_ATE_Tax',\n",
    "    'S6Q11B': 'BE_ATE_Tax_5y',\n",
    "    'S6Q12A': 'VE_NFE_URP',\n",
    "    'fid': 'FID',\n",
    "    'PROVINCE_ID': 'P_ID',\n",
    "    'DISTRICT_ID': 'D_ID',\n",
    "    'TEHSIL_ID': 'T_ID',\n",
    "    'MAUZA_ID': 'M_ID'\n",
    "}\n",
    "\n",
    "\n",
    "df_2012.rename(columns=rename_mapping, inplace=True)\n",
    "\n",
    "# Drop redundant columns\n",
    "df_2012.drop(df_2012.columns[df_2012.columns.str.contains('Unnamed', case=True)], axis=1, inplace=True)\n",
    "df_2012.drop(df_2012.columns[df_2012.columns.str.contains(' ', case=False)], axis=1, inplace=True)\n",
    "\n",
    "# Save the merged dataframe to a CSV file\n",
    "df_2012.to_csv('1. merged_S12P1_Business Environment and Organizations.csv', index=False)\n",
    "\n"
   ]
  },
  {
   "cell_type": "code",
   "execution_count": null,
   "id": "c1a984fb-cef4-4d9e-9ac9-b680d6f41940",
   "metadata": {},
   "outputs": [],
   "source": []
  }
 ],
 "metadata": {
  "kernelspec": {
   "display_name": "Python 3 (ipykernel)",
   "language": "python",
   "name": "python3"
  },
  "language_info": {
   "codemirror_mode": {
    "name": "ipython",
    "version": 3
   },
   "file_extension": ".py",
   "mimetype": "text/x-python",
   "name": "python",
   "nbconvert_exporter": "python",
   "pygments_lexer": "ipython3",
   "version": "3.11.7"
  }
 },
 "nbformat": 4,
 "nbformat_minor": 5
}
