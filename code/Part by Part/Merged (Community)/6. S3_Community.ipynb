{
 "cells": [
  {
   "cell_type": "code",
   "execution_count": 4,
   "id": "b06248f4-d50e-4ac4-9a12-91213643d91d",
   "metadata": {},
   "outputs": [],
   "source": [
    "# This code block stores file paths to variables to make the code neat\n",
    "# The stored variables are called in the read_excel function and stored as dataframes\n",
    "\n",
    "import pandas as pd\n",
    "import numpy as np\n",
    "# Store excel file locations to variables\n",
    "\n",
    "Com_2014 = r\"C:\\Users\\warra\\Desktop\\Freelance\\data\\data\\CommunityMerge\\1. Merging by Parts\\6. S2P2 National and Provincial Assembly Elections\\2014_s3_community.csv\"\n",
    "\n",
    "# Read excel files \n",
    "\n",
    "df_2014 = pd.read_csv(Com_2014)\n",
    "\n"
   ]
  },
  {
   "cell_type": "code",
   "execution_count": 6,
   "id": "51a5aad7-5898-4f02-948f-c3bcced01f6c",
   "metadata": {},
   "outputs": [],
   "source": [
    "# Rename columns for the merged file (if needed)\n",
    "rename_mapping = {\n",
    "    'cid': 'CID',\n",
    "    's3_pa_q1': 'NA_NoPSM',\n",
    "    's3_pa_q3': 'NA_TNoPPCamp',\n",
    "    's3_pa_q4': 'NA_NoCandM',\n",
    "    's3_pa_q5': 'NA_MaxCampM',\n",
    "    's3_pa_q6': 'NA_MaxCampM_NoR',\n",
    "    's3_pa_q7': 'NA_MaxCampM_DTD',\n",
    "    's3_pa_q8a': 'NA_MaxCamp_AdvTV',\n",
    "    's3_pa_q8b': 'NA_MaxCamp_AdvBB',\n",
    "    's3_pa_q8c': 'NA_MaxCamp_AdvNews',\n",
    "    's3_pa_q8d': 'NA_MaxCamp_AdvES',\n",
    "    's3_pa_q10': 'NA_MNA_PP',\n",
    "    's3_pa_q11': 'NA_MNA_NoV',\n",
    "    's3_pa_q12': 'NA_MNA_GroupMeets',\n",
    "    's3_pa_q13': 'NA_ElecFair',\n",
    "    's3_pa_q14': 'NA_MNA_WobM',\n",
    "    's3_pa_q2_party_code': 'NA_PPCampaign_PartyCode',\n",
    "    's3_pa_q2': 'NA_PPCampaign',\n",
    "    's3_pb_q1': 'PA_NoPSM',\n",
    "    's3_pb_q3': 'PA_TNoPPCamp',\n",
    "    's3_pb_q4': 'PA_NoCandM',\n",
    "    's3_pb_q5': 'PA_MaxCampM',\n",
    "    's3_pb_q6': 'PA_MaxCampM_NoR',\n",
    "    's3_pb_q7': 'PA_MaxCampM_DTD',\n",
    "    's3_pb_q8a': 'PA_MaxCamp_AdvTV',\n",
    "    's3_pb_q8b': 'PA_MaxCamp_AdvBB',\n",
    "    's3_pb_q8c': 'PA_MaxCamp_AdvNews',\n",
    "    's3_pb_q8e': 'PA_MaxCamp_AdvES',\n",
    "    's3_pb_q10': 'PA_MPA_PP',\n",
    "    's3_pb_q11': 'PA_MPA_NoV',\n",
    "    's3_pb_q12': 'PA_MPA_GroupMeets',\n",
    "    's3_pb_q13': 'PA_ElecFair',\n",
    "    's3_pb_q14': 'PA_MPA_WobM',\n",
    "    's3_pb_q2_party_code': 'PA_PPCampaign_PartyCode',\n",
    "    's3_pb_q2': 'PA_PPCampaign'\n",
    "}\n",
    "\n",
    "\n",
    "df_2014.rename(columns=rename_mapping, inplace=True)\n",
    "\n",
    "# Drop redundant columns\n",
    "df_2014.drop(df_2014.columns[df_2014.columns.str.contains('Unnamed', case=True)], axis=1, inplace=True)\n",
    "df_2014.drop(df_2014.columns[df_2014.columns.str.contains(' ', case=False)], axis=1, inplace=True)\n",
    "\n",
    "# Save the merged dataframe to a CSV file\n",
    "df_2014.to_csv('2. merged_S1_National and Provincial Assembly Elections.csv', index=False)\n",
    "\n"
   ]
  },
  {
   "cell_type": "code",
   "execution_count": null,
   "id": "c1a984fb-cef4-4d9e-9ac9-b680d6f41940",
   "metadata": {},
   "outputs": [],
   "source": []
  }
 ],
 "metadata": {
  "kernelspec": {
   "display_name": "Python 3 (ipykernel)",
   "language": "python",
   "name": "python3"
  },
  "language_info": {
   "codemirror_mode": {
    "name": "ipython",
    "version": 3
   },
   "file_extension": ".py",
   "mimetype": "text/x-python",
   "name": "python",
   "nbconvert_exporter": "python",
   "pygments_lexer": "ipython3",
   "version": "3.11.7"
  }
 },
 "nbformat": 4,
 "nbformat_minor": 5
}
