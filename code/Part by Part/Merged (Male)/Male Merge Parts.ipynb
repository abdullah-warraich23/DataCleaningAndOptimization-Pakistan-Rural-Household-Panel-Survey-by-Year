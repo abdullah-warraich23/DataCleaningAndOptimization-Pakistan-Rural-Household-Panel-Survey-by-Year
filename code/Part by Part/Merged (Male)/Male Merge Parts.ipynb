{
 "cells": [
  {
   "cell_type": "code",
   "execution_count": null,
   "id": "b7e877b5-ee61-4e99-a33b-dcb46ee3c1ab",
   "metadata": {},
   "outputs": [],
   "source": [
    "'''\n",
    "This notebook contains the code to merge all male data across the years based on sections.\n",
    "There are datasets for 2012, 2012-1.5, 2013 and 2014\n",
    "The different sections that will be merged are as follows:\n",
    "**2012**\n",
    "Section 2: Agriculture\n",
    "\n",
    "**2012_1.5**\n",
    "Section 1: Agriculture\n",
    "\n",
    "**2013**\n",
    "Section 2: Agriculture\n",
    "\n",
    "**2014**\n",
    "Section 2: Agriculture\n",
    "\n",
    "'''"
   ]
  },
  {
   "cell_type": "code",
   "execution_count": null,
   "id": "cdedd007-e29c-4664-8c47-81875441e502",
   "metadata": {},
   "outputs": [],
   "source": [
    "'''\n",
    "The following code blocks will rename and clean all AGRICULTURE files, missed in part by part across the years.\n",
    "* First, we are going to read the respective files and store them as data frames\n",
    "* Next, we are going to define column rename mappings\n",
    "* Once done, we will store them in CSV files\n",
    "'''"
   ]
  },
  {
   "cell_type": "code",
   "execution_count": 23,
   "id": "cea45791-5983-424b-83de-6df316d97133",
   "metadata": {},
   "outputs": [],
   "source": [
    "\n",
    "import pandas as pd\n",
    "\n",
    "# Load the first file\n",
    "df1 = pd.read_excel(r\"C:\\Users\\warra\\Desktop\\Freelance\\data\\data\\MaleMerge\\2. ALL MERGED CSV Parts\\13. Politival participation and Governance\\2013_s8p4_m.xlsx\")\n",
    "\n",
    "# Load the second file\n",
    "df2 = pd.read_excel(r\"C:\\Users\\warra\\Desktop\\Freelance\\data\\data\\MaleMerge\\2. ALL MERGED CSV Parts\\13. Politival participation and Governance\\2013_s8p4_q2q3q5q6_m.xlsx\")\n",
    "\n",
    "# Merge the two files based on a common column\n",
    "merged_df = pd.concat([df1, df2], ignore_index=True)\n",
    "\n",
    "# Drop redundant columns\n",
    "merged_df.drop(merged_df.columns[merged_df.columns.str.contains('Unnamed', case=True)], axis=1, inplace=True)\n",
    "merged_df.drop(merged_df.columns[merged_df.columns.str.contains(' ', case=False)], axis=1, inplace=True)\n",
    "# Save the merged dataframe to a CSV file\n",
    "merged_df.to_csv('2013_s8p4_mmerged.csv', index=True)"
   ]
  },
  {
   "cell_type": "code",
   "execution_count": 24,
   "id": "6108138f-6f5f-4306-9584-8fa84affd5b4",
   "metadata": {},
   "outputs": [],
   "source": [
    "# This code block stores file paths to variables to make the code neat\n",
    "# The stored variables are called in the read_excel function and stored as dataframes\n",
    "\n",
    "import pandas as pd\n",
    "\n",
    "# Store excel file locations to variables (change it as per your path to file)\n",
    "agri_2012_5=r\"C:\\Users\\warra\\Desktop\\Freelance\\data\\data\\MaleMerge\\2. ALL MERGED CSV Parts\\13. Politival participation and Governance\\2013_s8p4_mmerged.csv\"\n",
    "# Read excel files\n",
    "df_2012_5 = pd.read_csv(agri_2012_5)"
   ]
  },
  {
   "cell_type": "code",
   "execution_count": 25,
   "id": "51a5aad7-5898-4f02-948f-c3bcced01f6c",
   "metadata": {},
   "outputs": [],
   "source": [
    "# Rename columns for the merged file (if needed)\n",
    "rename_mapping = {\n",
    "    'hid': 'HID',\n",
    "    'round': 'Survey_Round',\n",
    "    's8p4_sr': 'GDM_Srno',\n",
    "    's8p4_actions': 'GDM_Actions',\n",
    "    's8p4_response1': 'GDM_Response1',\n",
    "    's8p4_response4': 'GDM_Response 4',\n",
    "    's8p4_q5': 'GDM_MEA4',\n",
    "    's8p4_q6': 'GDM_SMEA4',\n",
    "    's8p4_q2': 'GDM_MEA1',\n",
    "    's8p4_q3': 'GDM_SMEA1'\n",
    "}\n",
    "\n",
    "df_2012_5.rename(columns=rename_mapping, inplace=True)\n",
    "\n",
    "\n",
    "# Drop redundant columns\n",
    "df_2012_5.drop(df_2012_5.columns[df_2012_5.columns.str.contains('Unnamed', case=True)], axis=1, inplace=True)\n",
    "df_2012_5.drop(df_2012_5.columns[df_2012_5.columns.str.contains(' ', case=False)], axis=1, inplace=True)\n",
    "\n",
    "# Save the merged dataframe to a CSV file\n",
    "df_2012_5.to_csv('4. merged_PoliticalParticipationandGovernance_Perceptions of Governance and Decision-making.csv', index=False)\n",
    "\n"
   ]
  },
  {
   "cell_type": "code",
   "execution_count": null,
   "id": "c1a984fb-cef4-4d9e-9ac9-b680d6f41940",
   "metadata": {},
   "outputs": [],
   "source": []
  }
 ],
 "metadata": {
  "kernelspec": {
   "display_name": "Python 3 (ipykernel)",
   "language": "python",
   "name": "python3"
  },
  "language_info": {
   "codemirror_mode": {
    "name": "ipython",
    "version": 3
   },
   "file_extension": ".py",
   "mimetype": "text/x-python",
   "name": "python",
   "nbconvert_exporter": "python",
   "pygments_lexer": "ipython3",
   "version": "3.11.7"
  }
 },
 "nbformat": 4,
 "nbformat_minor": 5
}
