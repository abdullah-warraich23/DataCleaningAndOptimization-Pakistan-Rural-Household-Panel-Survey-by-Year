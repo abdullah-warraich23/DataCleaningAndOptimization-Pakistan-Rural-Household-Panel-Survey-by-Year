{
 "cells": [
  {
   "cell_type": "code",
   "execution_count": 2,
   "id": "b06248f4-d50e-4ac4-9a12-91213643d91d",
   "metadata": {},
   "outputs": [],
   "source": [
    "# This code block stores file paths to variables to make the code neat\n",
    "# The stored variables are called in the read_excel function and stored as dataframes\n",
    "\n",
    "import pandas as pd\n",
    "import numpy as np\n",
    "\n",
    "# Store excel file locations to variables (change it as per your path to file)\n",
    "file_2012=r\"C:\\Users\\warra\\Desktop\\Freelance\\data\\data\\FemaleMerge\\1. Merging by Parts\\36. Section  8. Part 7 Health and Nutrition-related Prenatal Care during Pregnancy with Youngest Child\\2012_s6p5_f.csv\"\n",
    "\n",
    "# Read excel files\n",
    "df_2012 = pd.read_csv(file_2012)\n"
   ]
  },
  {
   "cell_type": "code",
   "execution_count": 3,
   "id": "51a5aad7-5898-4f02-948f-c3bcced01f6c",
   "metadata": {},
   "outputs": [],
   "source": [
    "# Rename columns for the merged file (if needed)\n",
    "rename_mapping = {\n",
    "   'hid': 'HID',\n",
    "    'round': 'Survey_Round',\n",
    "    'pid': 'PID',\n",
    "    'S6P5Q1': 'PCP_AC_NoM',\n",
    "    'S6P5Q2_MOST': 'PCP_AC_Loc1',\n",
    "    'S6P5Q2_2MOST': 'PCP_AC_Loc2',\n",
    "    'S6P5Q3': 'PCP_ACAdvF',\n",
    "    'S6P5Q4': 'PCP_ACAdvF_Foll',\n",
    "    'S6P5Q5': 'PCP_ACAdvF_FollFreq',\n",
    "    'S6P5Q6': 'PCP_WeighFreq',\n",
    "    'S6P5Q7': 'PCP_NoTT',\n",
    "    'S6P5Q8': 'PCP_ISV',\n",
    "    'S6P5Q9': 'PCP_ISV_GLoc',\n",
    "    'S6P5Q10': 'PCP_ISV_Startm',\n",
    "    'S6P5Q11': 'PCP_ISV_Nom',\n",
    "    'S6P5Q12': 'PCP_ISV_NoDpm',\n",
    "    'S6P5Q13': 'PCP_VitA',\n",
    "    'S6P5Q14': 'PCP_Del_Loc',\n",
    "    'S6P5Q15': 'PCP_Del_AVC',\n",
    "    'S6P5Q16_MOST': 'PCP_Del_Help1',\n",
    "    'S6P5Q16_2MOST': 'PCP_Del_Help2',\n",
    "    'S6P5Q17': 'PCP_WhenBW',\n",
    "    'S6P5Q18': 'PCP_BW_Per',\n",
    "    'S6P5Q19': 'PCP_BW',\n",
    "    'PROVINCE_ID': 'P_ID',\n",
    "    'DISTRICT_ID': 'D_ID',\n",
    "    'TEHSIL_ID': 'T_ID',\n",
    "    'UC_ID': 'UC_ID',\n",
    "    'MAUZA_ID': 'M_ID'\n",
    "}\n",
    "\n",
    "df_2012.rename(columns=rename_mapping, inplace=True)\n",
    "\n",
    "# Drop redundant columns\n",
    "df_2012.drop(df_2012.columns[df_2012.columns.str.contains('Unnamed', case=True)], axis=1, inplace=True)\n",
    "df_2012.drop(df_2012.columns[df_2012.columns.str.contains(' ', case=False)], axis=1, inplace=True)\n",
    "\n",
    "# Save the merged dataframe to a CSV file\n",
    "df_2012.to_csv('9. merged_HnN_parental Care During Pregnancy.csv', index=False)\n"
   ]
  },
  {
   "cell_type": "code",
   "execution_count": null,
   "id": "45f7835b-68d4-403c-a884-c36669ec385f",
   "metadata": {},
   "outputs": [],
   "source": []
  }
 ],
 "metadata": {
  "kernelspec": {
   "display_name": "Python 3 (ipykernel)",
   "language": "python",
   "name": "python3"
  },
  "language_info": {
   "codemirror_mode": {
    "name": "ipython",
    "version": 3
   },
   "file_extension": ".py",
   "mimetype": "text/x-python",
   "name": "python",
   "nbconvert_exporter": "python",
   "pygments_lexer": "ipython3",
   "version": "3.11.7"
  }
 },
 "nbformat": 4,
 "nbformat_minor": 5
}
