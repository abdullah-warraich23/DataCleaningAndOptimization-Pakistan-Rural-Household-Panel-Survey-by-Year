{
 "cells": [
  {
   "cell_type": "code",
   "execution_count": 1,
   "id": "b06248f4-d50e-4ac4-9a12-91213643d91d",
   "metadata": {},
   "outputs": [],
   "source": [
    "# This code block stores file paths to variables to make the code neat\n",
    "# The stored variables are called in the read_excel function and stored as dataframes\n",
    "\n",
    "import pandas as pd\n",
    "import numpy as np\n",
    "\n",
    "# Store excel file locations to variables (change it as per your path to file)\n",
    "file_2013=r\"C:\\Users\\warra\\Desktop\\Freelance\\data\\data\\FemaleMerge\\1. Merging by Parts\\25. Section 7 Part 7 Women Decision Making Work and Expenses\\2013_s9p2_f.csv\"\n",
    "\n",
    "# Read excel files\n",
    "df_2013 = pd.read_csv(file_2013)\n",
    "\n"
   ]
  },
  {
   "cell_type": "code",
   "execution_count": 2,
   "id": "51a5aad7-5898-4f02-948f-c3bcced01f6c",
   "metadata": {},
   "outputs": [],
   "source": [
    "# Rename columns for the merged file (if needed)\n",
    "rename_mapping = {\n",
    "    'hid': 'HID',\n",
    "    'round': 'Survey_Round',\n",
    "    'r_pid': 'PID',\n",
    "    's9p2_q1': 'WE_Work',\n",
    "    's9p2_q2': 'WE_WorkPerm',\n",
    "    's9p2_q3': 'WE_FamResist',\n",
    "    's9p2_q4a': 'WE_IY',\n",
    "    's9p2_q4b': 'WE_Ihusband',\n",
    "    's9p2_q4c': 'WE_ISE',\n",
    "    's9p2_q4d': 'WE_IHH',\n",
    "    's9p2_q5a': 'WE_ISpend_R1',\n",
    "    's9p2_q5b': 'WE_ISpend_R2',\n",
    "    's9p2_q5c': 'WE_ISpend_R3',\n",
    "    's9p2_q5d': 'WE_ISpend_R4',\n",
    "    's9p2_q5e': 'WE_ISpend_R5',\n",
    "    's9p2_q6': 'WE_IDecide'\n",
    "}\n",
    "\n",
    "df_2013.rename(columns=rename_mapping, inplace=True)\n",
    "\n",
    "# Drop redundant columns\n",
    "df_2013.drop(df_2013.columns[df_2013.columns.str.contains('Unnamed', case=True)], axis=1, inplace=True)\n",
    "df_2013.drop(df_2013.columns[df_2013.columns.str.contains(' ', case=False)], axis=1, inplace=True)\n",
    "\n",
    "# Save the merged dataframe to a CSV file\n",
    "df_2013.to_csv('19. merged_Woman decision making Work n Expenses.csv', index=False)"
   ]
  },
  {
   "cell_type": "code",
   "execution_count": null,
   "id": "45f7835b-68d4-403c-a884-c36669ec385f",
   "metadata": {},
   "outputs": [],
   "source": []
  }
 ],
 "metadata": {
  "kernelspec": {
   "display_name": "Python 3 (ipykernel)",
   "language": "python",
   "name": "python3"
  },
  "language_info": {
   "codemirror_mode": {
    "name": "ipython",
    "version": 3
   },
   "file_extension": ".py",
   "mimetype": "text/x-python",
   "name": "python",
   "nbconvert_exporter": "python",
   "pygments_lexer": "ipython3",
   "version": "3.11.7"
  }
 },
 "nbformat": 4,
 "nbformat_minor": 5
}
